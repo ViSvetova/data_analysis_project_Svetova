{
 "cells": [
  {
   "cell_type": "code",
   "execution_count": 5,
   "id": "636fcf16-8514-4ec6-8915-4e9c77f759f5",
   "metadata": {},
   "outputs": [],
   "source": [
    "from selenium import webdriver\n",
    "from selenium.webdriver.chrome.service import Service\n",
    "from selenium.webdriver.common.by import By\n",
    "import pandas as pd\n",
    "import time"
   ]
  },
  {
   "cell_type": "code",
   "execution_count": 10,
   "id": "96d4a5d9-3e86-4ef7-930f-134aeb33c1d6",
   "metadata": {},
   "outputs": [
    {
     "name": "stdout",
     "output_type": "stream",
     "text": [
      "             Название Название в оригинале   Год  Продолжительность    Страна  \\\n",
      "0         Оппенгеймер          Oppenheimer  2023                180       США   \n",
      "1         Оставленные        The Holdovers  2023                133       США   \n",
      "2   Бедные-несчастные          Poor Things  2023                141  Ирландия   \n",
      "3       Прошлые жизни           Past Lives  2023                105       США   \n",
      "4  Американское чтиво     American Fiction  2023                116       США   \n",
      "\n",
      "        Жанр         Режиссер  Рейтинг                                  Ссылка  \n",
      "0  биография  Кристофер Нолан      8.2  https://www.kinopoisk.ru/film/4664634/  \n",
      "1      драма   Александр Пэйн      7.7  https://www.kinopoisk.ru/film/4499386/  \n",
      "2      драма  Йоргос Лантимос      7.7  https://www.kinopoisk.ru/film/4396438/  \n",
      "3  мелодрама        Селин Сон      7.4  https://www.kinopoisk.ru/film/1346482/  \n",
      "4      драма  Корд Джефферсон      7.3  https://www.kinopoisk.ru/film/5212291/  \n"
     ]
    }
   ],
   "source": [
    "service = Service(executable_path=r'C:\\Users\\Виктория\\Проект по андану (весна 2024)\\chromedriver-win32\\chromedriver.exe')\n",
    "options = webdriver.ChromeOptions()\n",
    "options.add_experimental_option(\"detach\", True)\n",
    "\n",
    "driver = webdriver.Chrome(service=service, options=options)\n",
    "\n",
    "movies_info = []\n",
    "# movies_budgets = []\n",
    "\n",
    "for page in range(1, 14):\n",
    "    driver.get(f'https://www.kinopoisk.ru/lists/movies/oscar-best-film-nominees/?page={page}')\n",
    "\n",
    "    driver.implicitly_wait(8)\n",
    "\n",
    "    for film in driver.find_elements(by=By.CLASS_NAME, value='styles_root__ti07r'):\n",
    "        title = film.find_element(by=By.CLASS_NAME, value='base-movie-main-info_mainInfo__ZL_u3')\n",
    "        if title:\n",
    "            title = title.text\n",
    "        orig = film.find_element(by=By.CLASS_NAME, value='desktop-list-main-info_secondaryTitleSlot__mc0mI')\n",
    "        year, duration = None, None\n",
    "        if orig:\n",
    "            try:\n",
    "                orig = orig.text.split(', ')\n",
    "                year = orig[-2]\n",
    "                duration = orig[-1]\n",
    "                orig = ', '.join(orig[:-2])[:-1]\n",
    "                year = int(year)\n",
    "                duration = int(duration.split(' ')[0])\n",
    "            except:\n",
    "                print('Ошибка orig:', orig.text)\n",
    "        \n",
    "        country = film.find_element(by=By.CLASS_NAME, value='desktop-list-main-info_additionalInfo__Hqzof')\n",
    "        genre, director = None, None\n",
    "        if country:\n",
    "            try:\n",
    "                country, genre_director = country.text.split(' • ')\n",
    "                genre, director = genre_director.split('  ')[0], genre_director.split(': ')[1]\n",
    "            except:\n",
    "                print('Ошибка country:', country.text)\n",
    "\n",
    "        \n",
    "        rating = film.find_element(by=By.CLASS_NAME, value='styles_kinopoiskValueBlock__qhRaI')\n",
    "        if rating:\n",
    "            rating = float(rating.text)\n",
    "\n",
    "        link = film.find_element(by=By.CLASS_NAME, value='base-movie-main-info_link__YwtP1')\n",
    "        # budget, profit_usa, profit_world = None, None, None\n",
    "        href = None\n",
    "        if link:\n",
    "            href = link.get_attribute('href')\n",
    "            \n",
    "            \n",
    "        movies_info.append((title, orig, year, duration, country, genre, director, rating, href))\n",
    "        # movies_budgets.append((title, budget, profit_usa, profit_world))\n",
    "    time.sleep(3)\n",
    "\n",
    "\n",
    "# driver.quit()\n",
    "\n",
    "df = pd.DataFrame(movies_info, columns=['Название', 'Название в оригинале', 'Год', 'Продолжительность', 'Страна', 'Жанр', 'Режиссер', 'Рейтинг', 'Ссылка'])\n",
    "# df_budget = pd.DataFrame(movies_budgets, columns=['Название', 'Бюджет($)', 'Сборы в США($)', 'Сборы в мире($)'])\n",
    "\n",
    "print(df.head())\n",
    "# print(df_budget.head())\n",
    "\n",
    "df.to_csv('df_films_pages_1-13.csv', index=False)"
   ]
  },
  {
   "cell_type": "code",
   "execution_count": null,
   "id": "485a5068-4b13-443d-a3c4-0056da994f04",
   "metadata": {},
   "outputs": [],
   "source": []
  }
 ],
 "metadata": {
  "kernelspec": {
   "display_name": "Python 3 (ipykernel)",
   "language": "python",
   "name": "python3"
  },
  "language_info": {
   "codemirror_mode": {
    "name": "ipython",
    "version": 3
   },
   "file_extension": ".py",
   "mimetype": "text/x-python",
   "name": "python",
   "nbconvert_exporter": "python",
   "pygments_lexer": "ipython3",
   "version": "3.11.7"
  }
 },
 "nbformat": 4,
 "nbformat_minor": 5
}
